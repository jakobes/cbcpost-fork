{
 "cells": [
  {
   "cell_type": "code",
   "execution_count": 1,
   "metadata": {
    "collapsed": false,
    "extensions": {
     "jupyter_dashboards": {
      "version": 1,
      "views": {
       "grid_default": {
        "col": 0,
        "height": 36,
        "hidden": false,
        "row": 0,
        "width": 12
       },
       "report_default": {}
      }
     }
    },
    "scrolled": false
   },
   "outputs": [
    {
     "data": {
      "text/html": [
       "\n",
       "    <style>.widget-subarea .widget-dropdown .widget_item .widget-combo-btn { display: stretch; width: 100%; white-space: normal !important;}\n",
       "    </style>\n",
       "    "
      ],
      "text/plain": [
       "<IPython.core.display.HTML object>"
      ]
     },
     "metadata": {},
     "output_type": "display_data"
    },
    {
     "data": {
      "text/html": [
       "<style>.container { width:90%; }</style>"
      ],
      "text/plain": [
       "<IPython.core.display.HTML object>"
      ]
     },
     "metadata": {},
     "output_type": "display_data"
    }
   ],
   "source": [
    "#%matplotlib inline\n",
    "from cbcpost.cbcdashboard_setup import *\n",
    "set_style()\n",
    "current_value, widgets, figures, gui = setup()"
   ]
  },
  {
   "cell_type": "markdown",
   "metadata": {
    "extensions": {
     "jupyter_dashboards": {
      "version": 1,
      "views": {
       "grid_default": {
        "col": 0,
        "height": 15,
        "hidden": true,
        "row": 36,
        "width": 12
       },
       "report_default": {}
      }
     }
    }
   },
   "source": [
    "To acess the values of the gui, you can do the following:\n",
    "    \n",
    "    print current_value # See what's available in current_value\n",
    "    v = current_value.value # Returns current value that is rendered\n",
    "    key = current_value.key # Returns key of current plotted value\n",
    "    fig = figures[\"matplotlib\"] # Returns the current matplotlib figure\n",
    "    df = figures[\"pandas\"] # Returns the current pandas DataFrame\n",
    "    \n",
    "You can also access the gui elements:\n",
    "\n",
    "    rows = gui.children\n",
    "    columns = []\n",
    "    for r in rows[1:]:\n",
    "        columns += r.children\n",
    "    gui_elements = []\n",
    "    for c in columns:\n",
    "         gui_elements += c.children\n",
    "\n",
    "All the widgets are also available in the widgets-variable:\n",
    "\n",
    "    print widgets\n"
   ]
  },
  {
   "cell_type": "code",
   "execution_count": null,
   "metadata": {
    "collapsed": true,
    "extensions": {
     "jupyter_dashboards": {
      "version": 1,
      "views": {
       "grid_default": {
        "hidden": true
       },
       "report_default": {}
      }
     }
    }
   },
   "outputs": [],
   "source": []
  }
 ],
 "metadata": {
  "extensions": {
   "jupyter_dashboards": {
    "activeView": "grid_default",
    "version": 1,
    "views": {
     "grid_default": {
      "cellMargin": 10,
      "defaultCellHeight": 20,
      "maxColumns": 12,
      "name": "grid",
      "type": "grid"
     },
     "report_default": {
      "name": "report",
      "type": "report"
     }
    }
   }
  },
  "kernelspec": {
   "display_name": "Python 2",
   "language": "python",
   "name": "python2"
  },
  "language_info": {
   "codemirror_mode": {
    "name": "ipython",
    "version": 2
   },
   "file_extension": ".py",
   "mimetype": "text/x-python",
   "name": "python",
   "nbconvert_exporter": "python",
   "pygments_lexer": "ipython2",
   "version": "2.7.11+"
  }
 },
 "nbformat": 4,
 "nbformat_minor": 0
}
